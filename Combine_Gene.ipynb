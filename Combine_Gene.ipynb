{
  "nbformat": 4,
  "nbformat_minor": 0,
  "metadata": {
    "colab": {
      "name": "Untitled0.ipynb",
      "provenance": [],
      "collapsed_sections": [],
      "authorship_tag": "ABX9TyMMTSzYXyc1WlkHKVcUsjVW",
      "include_colab_link": true
    },
    "kernelspec": {
      "name": "python3",
      "display_name": "Python 3"
    },
    "language_info": {
      "name": "python"
    }
  },
  "cells": [
    {
      "cell_type": "markdown",
      "metadata": {
        "id": "view-in-github",
        "colab_type": "text"
      },
      "source": [
        "<a href=\"https://colab.research.google.com/github/stardust95/OnlineLibrary/blob/master/Combine_Gene.ipynb\" target=\"_parent\"><img src=\"https://colab.research.google.com/assets/colab-badge.svg\" alt=\"Open In Colab\"/></a>"
      ]
    },
    {
      "cell_type": "markdown",
      "source": [
        "# 新段落"
      ],
      "metadata": {
        "id": "31oAQGWwr1ez"
      }
    },
    {
      "cell_type": "code",
      "source": [
        "import pandas as pd\n",
        "\n",
        "def join_tables(healthy_file, disease_file, combine_output_file):\n",
        "  healthy, disease = pd.read_csv(healthy_file, sep='\\t'), pd.read_csv(disease_file, sep='\\t')\n",
        "  combine = pd.concat([healthy, disease], axis=1, join='inner')\n",
        "  combine.to_csv(combine_output_file, sep='\\t', index=False)\n",
        "  "
      ],
      "metadata": {
        "id": "qSge9NxNsPtj"
      },
      "execution_count": 12,
      "outputs": []
    },
    {
      "cell_type": "code",
      "source": [
        "# 使用方式: join_tables(healthy文件名, disease文件名, 合并输出文件名)\n",
        "join_tables(\"Healthy_longRNAs.txt\", \"GBM_longRNAs.txt\", \"Combine_longRNAs.txt\")"
      ],
      "metadata": {
        "id": "Ou3HP6M4x8Ql"
      },
      "execution_count": null,
      "outputs": []
    },
    {
      "cell_type": "markdown",
      "source": [
        "# 使用方式\n",
        "1. 上传Healthy和Disease的文件\n",
        "2. 仿照上面这行，输入Healthy、Disease、以及合并后文件名作为参数，执行join_tables\n",
        "3. 下载合并后的文件到本地"
      ],
      "metadata": {
        "id": "-JctLwWzx1jd"
      }
    }
  ]
}